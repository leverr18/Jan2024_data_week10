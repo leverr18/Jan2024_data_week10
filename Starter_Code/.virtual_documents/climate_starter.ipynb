%matplotlib inline
from matplotlib import style
style.use('fivethirtyeight')
import matplotlib.pyplot as plt


import numpy as np
import pandas as pd
import datetime as dt





# Python SQL toolkit and Object Relational Mapper
import sqlalchemy
from sqlalchemy.ext.automap import automap_base
from sqlalchemy.orm import Session
from sqlalchemy import create_engine, func, text, desc


# create engine to hawaii.sqlite
engine = create_engine("sqlite:///Resources/hawaii.sqlite")


# reflect an existing database into a new model
Base = automap_base()

# reflect the tables
Base.prepare(autoload_with=engine)


# View all of the classes that automap found
for class_name in Base.classes.items():
    print(class_name)  


# Save references to each table
Station = Base.classes.station
Measurement = Base.classes.measurement


# Create our session (link) from Python to the DB
session = Session(engine)
conn = engine.connect()


query = text("""SELECT * from station LIMIT 10""")
df = pd.read_sql(query, con=conn)
df


query = text("""SELECT * from measurement LIMIT 10""")
df = pd.read_sql(query, con=conn)
df








# Find the most recent date in the data set.
query = text("""Select max(date) from measurement;""")
conn.execute(query).fetchall()


# Design a query to retrieve the last 12 months of precipitation data and plot the results. 
# Starting from the most recent data point in the database. 
rows = session.query(Measurement.id, Measurement.station, Measurement.date, Measurement.prcp).filter(Measurement.date >= "2016-08-23")
df = pd.DataFrame(rows)

# Sort the dataframe by date
df_sorted = df.sort_values(by='date')
# Use Pandas Plotting with Matplotlib to plot the data
plt.figure(figsize=(10, 6))
df_sorted.plot(x="date", y="prcp", rot=90)
plt.title("Hawaii Precipitation Levels the Past Year")
plt.ylabel("Precipitation (in)")
plt.show()


# Use Pandas to calculate the summary statistics for the precipitation data
# Statistics meaning things like mean, and standard deviation
df_sorted.prcp.describe()





# Design a query to calculate the total number of stations in the dataset
#query = text("""SELECT * from station""")
#df = pd.read_sql(query, con=conn)
#len(df)
session.query(func.count(Station.station)).all()


# Design a query to find the most active stations (i.e. which stations have the most rows?)
# List the stations and their counts in descending order.
rows = session.query(Measurement.station, func.count(Measurement.id).label("count")).group_by(Measurement.station).order_by(func.count(Measurement.id).desc()).all()
df1 = pd.DataFrame(rows)
df1


# Using the most active station id from the previous query, calculate the lowest, highest, and average temperature.
session.query(func.min(Measurement.tobs).label("lowest_temp"),
              func.max(Measurement.tobs).label("highest_temp"),
              func.avg(Measurement.tobs).label("average_temp")
             ).filter(Measurement.station == 'USC00519281').all()



# Using the most active station id
# Query the last 12 months of temperature observation data for this station and plot the results as a histogram
active_station = session.query(Measurement.id, Measurement.station, Measurement.date, Measurement.prcp, Measurement.tobs).filter(Measurement.station == 'USC00519281').filter(Measurement.date >= "2016-08-23").order_by(desc(Measurement.date)).all()
df2 = pd.DataFrame(active_station)
df2


# Histogram

df2.plot.hist(y='tobs', bins=30, alpha=0.7, color='skyblue', edgecolor='black')
plt.title("Temperature Observations for Most Active Station")
plt.ylabel("Frequency")
plt.xlabel("Temp")
plt.show()





# Close Session
session.close()
conn.close()


engine.dispose()



